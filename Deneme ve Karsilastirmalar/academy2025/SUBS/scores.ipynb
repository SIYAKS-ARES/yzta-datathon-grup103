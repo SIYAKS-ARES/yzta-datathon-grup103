{
 "cells": [
  {
   "cell_type": "code",
   "execution_count": 1,
   "metadata": {},
   "outputs": [],
   "source": [
    "import pandas as pd\n",
    "import numpy as np\n",
    "\n",
    "# CSV'leri yükle\n",
    "s1 = pd.read_csv(\"submission1-23.5883172399.csv\")#['target']\n",
    "s2 = pd.read_csv(\"submission2-41.9705583791.csv\")#['target']\n",
    "s3 = pd.read_csv(\"submission3-38.2625920149.csv\")#['target']\n",
    "s4 = pd.read_csv(\"submission4-38.7200514250.csv\")#['target']\n",
    "s5 = pd.read_csv(\"submission5-26.7881473355.csv\")#['target']\n",
    "s6 = pd.read_csv(\"submission6-17.4716995497.csv\")#['target']\n",
    "s7 = pd.read_csv(\"submission7-4.7135808154.csv\")#['target']\n",
    "s8 = pd.read_csv(\"rmse.0.043-4.6025400670.csv\")#['target']\n",
    "\n",
    "\n",
    "\n",
    "\n",
    "s_new = pd.read_csv(\"submission_feature_engineered.csv\")#['target']  # Yeni dosya\n"
   ]
  },
  {
   "cell_type": "code",
   "execution_count": 2,
   "metadata": {},
   "outputs": [
    {
     "data": {
      "text/plain": [
       "'\\n#Alternatif olarak MAE kullanılabilir\\nfrom sklearn.metrics import mean_absolute_error\\n\\nd1 = mean_absolute_error(s_new, s1)\\nd2 = mean_absolute_error(s_new, s2)\\nd3 = mean_absolute_error(s_new, s3)\\n'"
      ]
     },
     "execution_count": 2,
     "metadata": {},
     "output_type": "execute_result"
    }
   ],
   "source": [
    "from numpy.linalg import norm\n",
    "\n",
    "d1 = norm(s_new - s1)\n",
    "d2 = norm(s_new - s2)\n",
    "d3 = norm(s_new - s3)\n",
    "d4 = norm(s_new - s4)\n",
    "d5 = norm(s_new - s5)\n",
    "d6 = norm(s_new - s6)\n",
    "d7 = norm(s_new - s7)\n",
    "d8 = norm(s_new - s8)\n",
    "\n",
    "\n",
    "\n",
    "\n",
    "'''\n",
    "#Alternatif olarak MAE kullanılabilir\n",
    "from sklearn.metrics import mean_absolute_error\n",
    "\n",
    "d1 = mean_absolute_error(s_new, s1)\n",
    "d2 = mean_absolute_error(s_new, s2)\n",
    "d3 = mean_absolute_error(s_new, s3)\n",
    "'''"
   ]
  },
  {
   "cell_type": "code",
   "execution_count": 3,
   "metadata": {},
   "outputs": [
    {
     "name": "stdout",
     "output_type": "stream",
     "text": [
      "Yeni submission, en çok submission7 ile benzer.\n",
      "Tahmini puan: 4.7135\n"
     ]
    }
   ],
   "source": [
    "distances = [d1, d2, d3, d4, d5, d6, d7, d8]  # Her submission ile yeni submission arasındaki mesafeler\n",
    "scores = [23.5883, 41.9705, 38.2625, 38.7200, 26.7881, 17.4717, 4.7135, 4.6025]  # Her submission için tahmin edilen puanlar\n",
    "\n",
    "# En yakın olanın skorunu göster\n",
    "closest_index = np.argmin(distances)\n",
    "print(f\"Yeni submission, en çok submission{closest_index+1} ile benzer.\")\n",
    "print(f\"Tahmini puan: {scores[closest_index]}\")\n"
   ]
  }
 ],
 "metadata": {
  "kernelspec": {
   "display_name": "base",
   "language": "python",
   "name": "python3"
  },
  "language_info": {
   "codemirror_mode": {
    "name": "ipython",
    "version": 3
   },
   "file_extension": ".py",
   "mimetype": "text/x-python",
   "name": "python",
   "nbconvert_exporter": "python",
   "pygments_lexer": "ipython3",
   "version": "3.12.3"
  }
 },
 "nbformat": 4,
 "nbformat_minor": 2
}
